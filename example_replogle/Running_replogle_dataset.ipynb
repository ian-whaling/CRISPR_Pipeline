{
 "cells": [
  {
   "cell_type": "markdown",
   "id": "1f927d11",
   "metadata": {
    "vscode": {
     "languageId": "plaintext"
    }
   },
   "source": [
    "## TODO:\n",
    "    - [] Add the download instructions"
   ]
  },
  {
   "cell_type": "markdown",
   "id": "4af53b09",
   "metadata": {},
   "source": [
    "## CRISPR pipeline (Replogle Dataset)\n",
    "\n",
    "### Prerequisites\n",
    "\n",
    "Nextflow and Docker/Singularity must be installed in your compute environment before running the pipeline:\n",
    "\n",
    "1. Nextflow (version > 24)\n",
    "Workflow manager for executing the pipeline:\n"
   ]
  },
  {
   "cell_type": "code",
   "execution_count": null,
   "id": "985e63c0",
   "metadata": {
    "vscode": {
     "languageId": "plaintext"
    }
   },
   "outputs": [],
   "source": [
    "%%bash\n",
    "conda install bioconda::nextflow"
   ]
  },
  {
   "cell_type": "markdown",
   "id": "d37760e2",
   "metadata": {},
   "source": [
    "2. Singularity\n",
    "Container platform that must be available in your execution environment.\n"
   ]
  },
  {
   "cell_type": "markdown",
   "id": "d8c56c8b",
   "metadata": {},
   "source": [
    "### Pipeline installation\n",
    "\n",
    "To install the pipeline:"
   ]
  },
  {
   "cell_type": "code",
   "execution_count": null,
   "id": "6ae76690",
   "metadata": {
    "vscode": {
     "languageId": "plaintext"
    }
   },
   "outputs": [],
   "source": [
    "%%bash\n",
    "git clone https://github.com/pinellolab/CRISPR_Pipeline.git"
   ]
  },
  {
   "cell_type": "markdown",
   "id": "135fae3e",
   "metadata": {},
   "source": [
    "**Before running the pipeline, customize the `nextflow.config` for your run.**\n",
    "\n",
    "\n",
    "Run the pipeline:"
   ]
  },
  {
   "cell_type": "code",
   "execution_count": null,
   "id": "8310baa4",
   "metadata": {
    "vscode": {
     "languageId": "plaintext"
    }
   },
   "outputs": [],
   "source": [
    "%%bash\n",
    "\n",
    "cd CRISPR_Pipeline\n",
    "nextflow run main.nf -profile local"
   ]
  },
  {
   "cell_type": "markdown",
   "id": "652223b1",
   "metadata": {},
   "source": [
    "### Compute Configuration\n",
    "\n",
    "Select and configure your compute environment:\n",
    "\n",
    "**1. Local**"
   ]
  },
  {
   "cell_type": "code",
   "execution_count": null,
   "id": "bd5b620e",
   "metadata": {
    "vscode": {
     "languageId": "plaintext"
    }
   },
   "outputs": [],
   "source": [
    "%%bash\n",
    "nextflow run main.nf -profile local --input path/for/your//per_sample_example_repogle_k562_day6_map_info.csv --outdir /path/to/your/outdir"
   ]
  },
  {
   "cell_type": "markdown",
   "id": "f4cf2a16",
   "metadata": {},
   "source": [
    "**2. SLURM Cluster**\n",
    "\n",
    "```groovy\n",
    "    slurm {\n",
    "        process.queue = 'short,normal,long'  // Update partition names\n",
    "    }\n",
    "```"
   ]
  },
  {
   "cell_type": "code",
   "execution_count": null,
   "id": "ae446aaf",
   "metadata": {
    "vscode": {
     "languageId": "plaintext"
    }
   },
   "outputs": [],
   "source": [
    "%%bash\n",
    "\n",
    "nextflow run main.nf -profile slurm --input path/for/your//per_sample_example_repogle_k562_day6_map_info.csv--outdir /path/to/your/outdir"
   ]
  },
  {
   "cell_type": "markdown",
   "id": "b3623929",
   "metadata": {},
   "source": [
    "**3. Google Cloud Platform**\n",
    "\n",
    "```groovy\n",
    "    google_bucket = 'gs://your-bucket-name'\n",
    "    google_project = 'your-gcp-project-id'\n",
    "    google_region = 'us-central1'\n",
    "```"
   ]
  },
  {
   "cell_type": "code",
   "execution_count": null,
   "id": "aeadd7bf",
   "metadata": {
    "vscode": {
     "languageId": "plaintext"
    }
   },
   "outputs": [],
   "source": [
    "%%bash\n",
    "\n",
    "export GOOGLE_APPLICATION_CREDENTIALS=\"/path/to/your/pipeline-service-key.json\"\n",
    "nextflow run main.nf -profile google --input path/for/your//per_sample_example_repogle_k562_day6_map_info.csv --outdir /path/to/your/outdir"
   ]
  }
 ],
 "metadata": {
  "language_info": {
   "name": "python"
  }
 },
 "nbformat": 4,
 "nbformat_minor": 5
}
