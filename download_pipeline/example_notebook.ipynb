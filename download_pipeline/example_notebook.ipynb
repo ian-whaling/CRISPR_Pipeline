{
 "cells": [
  {
   "cell_type": "markdown",
   "id": "4af53b09",
   "metadata": {},
   "source": [
    "## CRISPR pipeline\n",
    "\n",
    "### Prerequisites\n",
    "\n",
    "Nextflow and Docker/Singularity must be installed in your compute environment before running the pipeline:\n",
    "\n",
    "1. Nextflow (version > 24)\n",
    "Workflow manager for executing the pipeline:\n"
   ]
  },
  {
   "cell_type": "code",
   "execution_count": null,
   "id": "985e63c0",
   "metadata": {
    "vscode": {
     "languageId": "plaintext"
    }
   },
   "outputs": [],
   "source": [
    "%%bash\n",
    "conda install bioconda::nextflow"
   ]
  },
  {
   "cell_type": "markdown",
   "id": "d37760e2",
   "metadata": {},
   "source": [
    "2. Singularity\n",
    "Container platform that must be available in your execution environment.\n"
   ]
  },
  {
   "cell_type": "markdown",
   "id": "d8c56c8b",
   "metadata": {},
   "source": [
    "### Pipeline installation\n",
    "\n",
    "To install the pipeline:"
   ]
  },
  {
   "cell_type": "code",
   "execution_count": null,
   "id": "6ae76690",
   "metadata": {
    "vscode": {
     "languageId": "plaintext"
    }
   },
   "outputs": [],
   "source": [
    "%%bash\n",
    "git clone https://github.com/pinellolab/CRISPR_Pipeline.git"
   ]
  },
  {
   "cell_type": "markdown",
   "id": "cb963ec7",
   "metadata": {},
   "source": [
    "### Download Data from IGVF Portal\n",
    "\n",
    "We've created a download pipeline to retrieve all necessary files from the IGVF portal, including FASTQ files, seqspecs, and reference metadata. \n",
    "\n",
    "**Pipeline Location:** https://github.com/pinellolab/CRISPR_Pipeline/tree/main/download_pipeline\n",
    "\n",
    "**Configuration**\n",
    "\n",
    "Configure the pipeline by editing your `nextflow.config` file with the following parameters:\n",
    "\n",
    "```groovy \n",
    "    params {\n",
    "        // Portal seqspec availability\n",
    "        SEQSPEC_ON_PORTAL = 'false'  \n",
    "        // Set to 'true' if seqspecs are available on portal\n",
    "        \n",
    "        // Download options: 'all', 'fastq', or 'other'\n",
    "        download_option = 'all'\n",
    "        \n",
    "        // IGVF authentication - path to your key file\n",
    "        keypair_json = '/path/to/your/igvf_key.json'\n",
    "        \n",
    "        // Dataset identifier\n",
    "        accession_id = 'IGVFDS4389OUWU'\n",
    "        \n",
    "        // Seqspec files (required when SEQSPEC_ON_PORTAL = 'false')\n",
    "        SEQUENCE_PARSING_scRNA_seqspec_yaml = '/path/to/seqspec/rna_seq_spec.yaml'\n",
    "        SEQUENCE_PARSING_sgRNA_seqspec_yaml = '/path/to/seqspec/sgrna_seq_spec.yaml'\n",
    "        SEQUENCE_PARSING_hash_seqspec_yaml = '/path/to/seqspec/hash_seq_spec.yaml'\n",
    "    }\n",
    "```\n",
    "\n",
    "**Required information**\n",
    "\n",
    "**1. IGVF Authentication Key**\n",
    "\n",
    "Create an IGVF key JSON file with your credentials:\n",
    "\n",
    "```json\n",
    "    { \"key\": \"your_access_key_here\", \"secret\": \"your_secret_key_here\"}\n",
    "```\n",
    "\n",
    "**2. Download Options**\n",
    "\n",
    "Choose what to download by setting `download_option`:\n",
    "\n",
    "- **`'all'`** - Downloads FASTQ files, reference files, and metadata\n",
    "- **`'fastq'`** - Downloads only FASTQ files\n",
    "- **`'other'`** - Downloads only reference files and metadata\n",
    "\n",
    "**3. Seqspec Configuration**\n",
    "\n",
    "- If seqspecs are available on the portal, set `SEQSPEC_ON_PORTAL = 'true'`\n",
    "- If not available on portal, set `SEQSPEC_ON_PORTAL = 'false'` and provide paths to your local seqspec YAML files\n",
    "\n",
    "**Once configured, run the download pipeline:**"
   ]
  },
  {
   "cell_type": "code",
   "execution_count": null,
   "id": "fdaf2b6b",
   "metadata": {
    "vscode": {
     "languageId": "plaintext"
    }
   },
   "outputs": [],
   "source": [
    "%%bash\n",
    "cd CRISPR_Pipeline/download_pipeline\n",
    "nextflow run main.nf "
   ]
  },
  {
   "cell_type": "markdown",
   "id": "135fae3e",
   "metadata": {},
   "source": [
    "After running the download pipeline, besides fastq files, metadata, and seqspec, we have will also have a samplesheet.tsv. The samplesheet configure the full path to all input files. \n",
    "\n",
    "**Before running the pipeline, customize the `nextflow.config` for your run.**\n",
    "\n",
    "Run the pipeline:"
   ]
  },
  {
   "cell_type": "code",
   "execution_count": null,
   "id": "8310baa4",
   "metadata": {
    "vscode": {
     "languageId": "plaintext"
    }
   },
   "outputs": [],
   "source": [
    "%%bash\n",
    "\n",
    "cd CRISPR_Pipeline\n",
    "nextflow run main.nf -profile local"
   ]
  },
  {
   "cell_type": "markdown",
   "id": "652223b1",
   "metadata": {},
   "source": [
    "### Compute Configuration\n",
    "\n",
    "Select and configure your compute environment:\n",
    "\n",
    "**1. Local**"
   ]
  },
  {
   "cell_type": "code",
   "execution_count": null,
   "id": "bd5b620e",
   "metadata": {
    "vscode": {
     "languageId": "plaintext"
    }
   },
   "outputs": [],
   "source": [
    "%%bash\n",
    "nextflow run main.nf -profile local --input /path/to/your/samplesheet.tsv --outdir /path/to/your/outdir"
   ]
  },
  {
   "cell_type": "markdown",
   "id": "f4cf2a16",
   "metadata": {},
   "source": [
    "**2. SLURM Cluster**\n",
    "\n",
    "```groovy\n",
    "    slurm {\n",
    "        process.queue = 'short,normal,long'  // Update partition names\n",
    "    }\n",
    "```"
   ]
  },
  {
   "cell_type": "code",
   "execution_count": null,
   "id": "ae446aaf",
   "metadata": {
    "vscode": {
     "languageId": "plaintext"
    }
   },
   "outputs": [],
   "source": [
    "%%bash\n",
    "\n",
    "nextflow run main.nf -profile slurm --input /path/to/your/samplesheet.tsv --outdir /path/to/your/outdir"
   ]
  },
  {
   "cell_type": "markdown",
   "id": "b3623929",
   "metadata": {},
   "source": [
    "**3. Google Cloud Platform**\n",
    "\n",
    "```groovy\n",
    "    google_bucket = 'gs://your-bucket-name'\n",
    "    google_project = 'your-gcp-project-id'\n",
    "    google_region = 'us-central1'\n",
    "```"
   ]
  },
  {
   "cell_type": "code",
   "execution_count": null,
   "id": "aeadd7bf",
   "metadata": {
    "vscode": {
     "languageId": "plaintext"
    }
   },
   "outputs": [],
   "source": [
    "%%bash\n",
    "\n",
    "export GOOGLE_APPLICATION_CREDENTIALS=\"/path/to/your/pipeline-service-key.json\"\n",
    "nextflow run main.nf -profile google --input /path/to/your/samplesheet.tsv --outdir /path/to/your/outdir"
   ]
  }
 ],
 "metadata": {
  "language_info": {
   "name": "python"
  }
 },
 "nbformat": 4,
 "nbformat_minor": 5
}
